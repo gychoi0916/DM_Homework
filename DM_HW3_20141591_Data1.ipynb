{
 "cells": [
  {
   "cell_type": "code",
   "execution_count": 1,
   "metadata": {},
   "outputs": [],
   "source": [
    "import numpy as np\n",
    "import pandas as pd"
   ]
  },
  {
   "cell_type": "markdown",
   "metadata": {},
   "source": [
    "# Iris dataset 불러오기"
   ]
  },
  {
   "cell_type": "code",
   "execution_count": 2,
   "metadata": {},
   "outputs": [
    {
     "name": "stdout",
     "output_type": "stream",
     "text": [
      "(120, 4)\n",
      "(30, 4)\n",
      "(120,)\n",
      "(30,)\n"
     ]
    }
   ],
   "source": [
    "from sklearn.datasets import load_iris\n",
    "from sklearn.model_selection import train_test_split\n",
    "\n",
    "iris = load_iris()\n",
    "X_train, X_test, Y_train, Y_test = train_test_split(iris.data, iris.target, random_state=777, test_size=0.2)\n",
    "print(X_train.shape)\n",
    "print(X_test.shape)\n",
    "print(Y_train.shape)\n",
    "print(Y_test.shape)"
   ]
  },
  {
   "cell_type": "markdown",
   "metadata": {},
   "source": [
    "# Iris dataset (참고용)"
   ]
  },
  {
   "cell_type": "code",
   "execution_count": 3,
   "metadata": {
    "scrolled": true
   },
   "outputs": [
    {
     "name": "stdout",
     "output_type": "stream",
     "text": [
      ".. _iris_dataset:\n",
      "\n",
      "Iris plants dataset\n",
      "--------------------\n",
      "\n",
      "**Data Set Characteristics:**\n",
      "\n",
      "    :Number of Instances: 150 (50 in each of three classes)\n",
      "    :Number of Attributes: 4 numeric, predictive attributes and the class\n",
      "    :Attribute Information:\n",
      "        - sepal length in cm\n",
      "        - sepal width in cm\n",
      "        - petal length in cm\n",
      "        - petal width in cm\n",
      "        - class:\n",
      "                - Iris-Setosa\n",
      "                - Iris-Versicolour\n",
      "                - Iris-Virginica\n",
      "                \n",
      "    :Summary Statistics:\n",
      "\n",
      "    ============== ==== ==== ======= ===== ====================\n",
      "                    Min  Max   Mean    SD   Class Correlation\n",
      "    ============== ==== ==== ======= ===== ====================\n",
      "    sepal length:   4.3  7.9   5.84   0.83    0.7826\n",
      "    sepal width:    2.0  4.4   3.05   0.43   -0.4194\n",
      "    petal length:   1.0  6.9   3.76   1.76    0.9490  (high!)\n",
      "    petal width:    0.1  2.5   1.20   0.76    0.9565  (high!)\n",
      "    ============== ==== ==== ======= ===== ====================\n",
      "\n",
      "    :Missing Attribute Values: None\n",
      "    :Class Distribution: 33.3% for each of 3 classes.\n",
      "    :Creator: R.A. Fisher\n",
      "    :Donor: Michael Marshall (MARSHALL%PLU@io.arc.nasa.gov)\n",
      "    :Date: July, 1988\n",
      "\n",
      "The famous Iris database, first used by Sir R.A. Fisher. The dataset is taken\n",
      "from Fisher's paper. Note that it's the same as in R, but not as in the UCI\n",
      "Machine Learning Repository, which has two wrong data points.\n",
      "\n",
      "This is perhaps the best known database to be found in the\n",
      "pattern recognition literature.  Fisher's paper is a classic in the field and\n",
      "is referenced frequently to this day.  (See Duda & Hart, for example.)  The\n",
      "data set contains 3 classes of 50 instances each, where each class refers to a\n",
      "type of iris plant.  One class is linearly separable from the other 2; the\n",
      "latter are NOT linearly separable from each other.\n",
      "\n",
      ".. topic:: References\n",
      "\n",
      "   - Fisher, R.A. \"The use of multiple measurements in taxonomic problems\"\n",
      "     Annual Eugenics, 7, Part II, 179-188 (1936); also in \"Contributions to\n",
      "     Mathematical Statistics\" (John Wiley, NY, 1950).\n",
      "   - Duda, R.O., & Hart, P.E. (1973) Pattern Classification and Scene Analysis.\n",
      "     (Q327.D83) John Wiley & Sons.  ISBN 0-471-22361-1.  See page 218.\n",
      "   - Dasarathy, B.V. (1980) \"Nosing Around the Neighborhood: A New System\n",
      "     Structure and Classification Rule for Recognition in Partially Exposed\n",
      "     Environments\".  IEEE Transactions on Pattern Analysis and Machine\n",
      "     Intelligence, Vol. PAMI-2, No. 1, 67-71.\n",
      "   - Gates, G.W. (1972) \"The Reduced Nearest Neighbor Rule\".  IEEE Transactions\n",
      "     on Information Theory, May 1972, 431-433.\n",
      "   - See also: 1988 MLC Proceedings, 54-64.  Cheeseman et al\"s AUTOCLASS II\n",
      "     conceptual clustering system finds 3 classes in the data.\n",
      "   - Many, many more ...\n"
     ]
    },
    {
     "data": {
      "text/html": [
       "<div>\n",
       "<style scoped>\n",
       "    .dataframe tbody tr th:only-of-type {\n",
       "        vertical-align: middle;\n",
       "    }\n",
       "\n",
       "    .dataframe tbody tr th {\n",
       "        vertical-align: top;\n",
       "    }\n",
       "\n",
       "    .dataframe thead th {\n",
       "        text-align: right;\n",
       "    }\n",
       "</style>\n",
       "<table border=\"1\" class=\"dataframe\">\n",
       "  <thead>\n",
       "    <tr style=\"text-align: right;\">\n",
       "      <th></th>\n",
       "      <th>sepal length (cm)</th>\n",
       "      <th>sepal width (cm)</th>\n",
       "      <th>petal length (cm)</th>\n",
       "      <th>petal width (cm)</th>\n",
       "      <th>class</th>\n",
       "    </tr>\n",
       "  </thead>\n",
       "  <tbody>\n",
       "    <tr>\n",
       "      <th>0</th>\n",
       "      <td>5.1</td>\n",
       "      <td>3.5</td>\n",
       "      <td>1.4</td>\n",
       "      <td>0.2</td>\n",
       "      <td>setosa</td>\n",
       "    </tr>\n",
       "    <tr>\n",
       "      <th>1</th>\n",
       "      <td>4.9</td>\n",
       "      <td>3.0</td>\n",
       "      <td>1.4</td>\n",
       "      <td>0.2</td>\n",
       "      <td>setosa</td>\n",
       "    </tr>\n",
       "    <tr>\n",
       "      <th>2</th>\n",
       "      <td>4.7</td>\n",
       "      <td>3.2</td>\n",
       "      <td>1.3</td>\n",
       "      <td>0.2</td>\n",
       "      <td>setosa</td>\n",
       "    </tr>\n",
       "    <tr>\n",
       "      <th>3</th>\n",
       "      <td>4.6</td>\n",
       "      <td>3.1</td>\n",
       "      <td>1.5</td>\n",
       "      <td>0.2</td>\n",
       "      <td>setosa</td>\n",
       "    </tr>\n",
       "    <tr>\n",
       "      <th>4</th>\n",
       "      <td>5.0</td>\n",
       "      <td>3.6</td>\n",
       "      <td>1.4</td>\n",
       "      <td>0.2</td>\n",
       "      <td>setosa</td>\n",
       "    </tr>\n",
       "  </tbody>\n",
       "</table>\n",
       "</div>"
      ],
      "text/plain": [
       "   sepal length (cm)  sepal width (cm)  petal length (cm)  petal width (cm)  \\\n",
       "0                5.1               3.5                1.4               0.2   \n",
       "1                4.9               3.0                1.4               0.2   \n",
       "2                4.7               3.2                1.3               0.2   \n",
       "3                4.6               3.1                1.5               0.2   \n",
       "4                5.0               3.6                1.4               0.2   \n",
       "\n",
       "    class  \n",
       "0  setosa  \n",
       "1  setosa  \n",
       "2  setosa  \n",
       "3  setosa  \n",
       "4  setosa  "
      ]
     },
     "execution_count": 3,
     "metadata": {},
     "output_type": "execute_result"
    }
   ],
   "source": [
    "df = pd.DataFrame(iris.data, columns=iris.feature_names)\n",
    "sy = pd.Series(iris.target, dtype=\"category\")\n",
    "sy = sy.cat.rename_categories(iris.target_names)\n",
    "df['class'] = sy\n",
    "print(iris.DESCR)\n",
    "df.head()"
   ]
  },
  {
   "cell_type": "markdown",
   "metadata": {},
   "source": [
    "# # Problem 1\n",
    "ID3 Decision Tree classifier.\n",
    "- decision-tree-id3 패키지를 pip install을 통해 설치하시오.\n",
    "- 위의 train 데이터(X_train, Y_train)를 이용하여 ID3 classifier 모델을 학습시키시오.\n",
    "- 위의 test 데이터(X_test, Y_test)를 이용해 정확도를 측정 후 출력하시오."
   ]
  },
  {
   "cell_type": "code",
   "execution_count": 4,
   "metadata": {},
   "outputs": [
    {
     "name": "stdout",
     "output_type": "stream",
     "text": [
      "Requirement already satisfied: decision-tree-id3 in c:\\users\\gycho\\anaconda3\\lib\\site-packages (0.1.2)\n",
      "Requirement already satisfied: nose>=1.1.2 in c:\\users\\gycho\\anaconda3\\lib\\site-packages (from decision-tree-id3) (1.3.7)\n",
      "Requirement already satisfied: numpy>=1.6.1 in c:\\users\\gycho\\anaconda3\\lib\\site-packages (from decision-tree-id3) (1.18.1)\n",
      "Requirement already satisfied: scikit-learn>=0.17 in c:\\users\\gycho\\anaconda3\\lib\\site-packages (from decision-tree-id3) (0.20.3)\n",
      "Requirement already satisfied: scipy>=0.13.3 in c:\\users\\gycho\\anaconda3\\lib\\site-packages (from scikit-learn>=0.17->decision-tree-id3) (1.4.1)\n"
     ]
    }
   ],
   "source": [
    "##########Put your installation code here###############\n",
    "!pip install decision-tree-id3\n",
    "########################################################"
   ]
  },
  {
   "cell_type": "code",
   "execution_count": 5,
   "metadata": {},
   "outputs": [
    {
     "name": "stdout",
     "output_type": "stream",
     "text": [
      "Test data prediction accuracy (ID3) : 96.666667\n"
     ]
    }
   ],
   "source": [
    "from id3 import Id3Estimator\n",
    "\n",
    "ID3_model = None\n",
    "accuracy = None\n",
    "############# Put your code here ################\n",
    "ID3_model = Id3Estimator()\n",
    "ID3_model.fit(X_train,Y_train)\n",
    "accuracy = 100 * (Y_test.size - np.nonzero(Y_test- ID3_model.predict(X_test))[0].size)/Y_test.size\n",
    "################################################# \n",
    "print('Test data prediction accuracy (ID3) : %f'%accuracy)"
   ]
  },
  {
   "cell_type": "markdown",
   "metadata": {},
   "source": [
    "# # Problem 2\n",
    "CART decision Tree classifier.\n",
    "- scikit-learn의 decision tree는 CART 기반 구현체이다.\n",
    "- Problem 1과 같은 방법으로 CART classifier 모델을 학습시키고 test데이터의 정확도를 출력하시오."
   ]
  },
  {
   "cell_type": "code",
   "execution_count": 6,
   "metadata": {},
   "outputs": [
    {
     "name": "stdout",
     "output_type": "stream",
     "text": [
      "Test data prediction accuracy (CART) : 90.000000\n"
     ]
    }
   ],
   "source": [
    "from sklearn.tree import DecisionTreeClassifier\n",
    "\n",
    "CART_model = None\n",
    "accuracy = None\n",
    "############# Put your code here ################\n",
    "CART_model = DecisionTreeClassifier()\n",
    "CART_model.fit(X_train,Y_train)\n",
    "accuracy = 100 * (Y_test.size - np.nonzero(Y_test- CART_model.predict(X_test))[0].size)/Y_test.size\n",
    "################################################# \n",
    "print('Test data prediction accuracy (CART) : %f'%accuracy)"
   ]
  },
  {
   "cell_type": "markdown",
   "metadata": {},
   "source": [
    "# # Problem 3\n",
    "Random Forest classifier.\n",
    "- scikit-learn의 random forest 패키지를 이용하여 모델을 학습시키고 test데이터의 정확도를 출력하시오."
   ]
  },
  {
   "cell_type": "code",
   "execution_count": 7,
   "metadata": {},
   "outputs": [
    {
     "name": "stdout",
     "output_type": "stream",
     "text": [
      "Test data prediction accuracy (Random Forest) : 90.000000\n"
     ]
    },
    {
     "name": "stderr",
     "output_type": "stream",
     "text": [
      "C:\\Users\\gycho\\Anaconda3\\lib\\site-packages\\sklearn\\ensemble\\forest.py:246: FutureWarning: The default value of n_estimators will change from 10 in version 0.20 to 100 in 0.22.\n",
      "  \"10 in version 0.20 to 100 in 0.22.\", FutureWarning)\n"
     ]
    }
   ],
   "source": [
    "from sklearn.ensemble import RandomForestClassifier\n",
    "\n",
    "Random_Forest_model = None\n",
    "accuracy = None\n",
    "############# Put your code here ################\n",
    "Random_Forest_model = RandomForestClassifier()\n",
    "Random_Forest_model.fit(X_train,Y_train)\n",
    "accuracy = 100 * (Y_test.size - np.nonzero(Y_test- Random_Forest_model.predict(X_test))[0].size)/Y_test.size\n",
    "################################################# \n",
    "print('Test data prediction accuracy (Random Forest) : %f'%accuracy)"
   ]
  },
  {
   "cell_type": "markdown",
   "metadata": {},
   "source": [
    "# # Problem 4\n",
    "XGBoost classifier.\n",
    "- XGBoost 패키지를 pip install을 통해 설치하시오.\n",
    "- 패키지를 불러와 모델을 학습시키고 test데이터의 정확도를 출력하시오."
   ]
  },
  {
   "cell_type": "code",
   "execution_count": 8,
   "metadata": {},
   "outputs": [
    {
     "name": "stdout",
     "output_type": "stream",
     "text": [
      "Requirement already satisfied: xgboost in c:\\users\\gycho\\anaconda3\\lib\\site-packages (1.0.2)\n",
      "Requirement already satisfied: numpy in c:\\users\\gycho\\anaconda3\\lib\\site-packages (from xgboost) (1.18.1)\n",
      "Requirement already satisfied: scipy in c:\\users\\gycho\\anaconda3\\lib\\site-packages (from xgboost) (1.4.1)\n"
     ]
    }
   ],
   "source": [
    "##########Put your installation code here###############\n",
    "!pip install xgboost\n",
    "########################################################"
   ]
  },
  {
   "cell_type": "code",
   "execution_count": 9,
   "metadata": {},
   "outputs": [
    {
     "name": "stdout",
     "output_type": "stream",
     "text": [
      "Test data prediction accuracy (XGBoost) : 93.333333\n"
     ]
    }
   ],
   "source": [
    "import xgboost as xgb\n",
    "\n",
    "XGB_model = None\n",
    "accuracy = None\n",
    "############# Put your code here ################\n",
    "XGB_model = xgb.XGBClassifier()\n",
    "XGB_model.fit(X_train,Y_train)\n",
    "accuracy = 100 * (Y_test.size - np.nonzero(Y_test- XGB_model.predict(X_test))[0].size)/Y_test.size\n",
    "################################################# \n",
    "print('Test data prediction accuracy (XGBoost) : %f'%accuracy)"
   ]
  },
  {
   "cell_type": "markdown",
   "metadata": {},
   "source": [
    "# # Problem 5\n",
    "LightGBM classifier.\n",
    "- LighGBM 패키지를 pip install을 통해 설치하시오.\n",
    "- 패키지를 불러와 모델을 학습시키고 test데이터의 정확도를 출력하시오."
   ]
  },
  {
   "cell_type": "code",
   "execution_count": 10,
   "metadata": {},
   "outputs": [
    {
     "name": "stdout",
     "output_type": "stream",
     "text": [
      "Requirement already satisfied: LightGBM in c:\\users\\gycho\\anaconda3\\lib\\site-packages (2.3.1)\n",
      "Requirement already satisfied: scipy in c:\\users\\gycho\\anaconda3\\lib\\site-packages (from LightGBM) (1.4.1)\n",
      "Requirement already satisfied: scikit-learn in c:\\users\\gycho\\anaconda3\\lib\\site-packages (from LightGBM) (0.20.3)\n",
      "Requirement already satisfied: numpy in c:\\users\\gycho\\anaconda3\\lib\\site-packages (from LightGBM) (1.18.1)\n"
     ]
    }
   ],
   "source": [
    "##########Put your installation code here###############\n",
    "!pip install LightGBM\n",
    "########################################################"
   ]
  },
  {
   "cell_type": "code",
   "execution_count": 11,
   "metadata": {},
   "outputs": [
    {
     "name": "stdout",
     "output_type": "stream",
     "text": [
      "Test data prediction accuracy (LightGBM) : 93.333333\n"
     ]
    }
   ],
   "source": [
    "import lightgbm as lgb\n",
    "\n",
    "LGBM_model = None\n",
    "accuracy = None\n",
    "############# Put your code here ################\n",
    "LGBM_model = lgb.LGBMClassifier()\n",
    "LGBM_model.fit(X_train,Y_train)\n",
    "accuracy = 100 * (Y_test.size - np.nonzero(Y_test- LGBM_model.predict(X_test))[0].size)/Y_test.size\n",
    "################################################# \n",
    "print('Test data prediction accuracy (LightGBM) : %f'%accuracy)"
   ]
  },
  {
   "cell_type": "markdown",
   "metadata": {},
   "source": [
    "# # Problem 6\n",
    "Naive Bayes classifier.\n",
    "- Scikit-learn의 Gaussian Naive Bayes classifier를 불러와 학습시키고, test데이터의 정확도를 출력하시오."
   ]
  },
  {
   "cell_type": "code",
   "execution_count": 12,
   "metadata": {},
   "outputs": [
    {
     "name": "stdout",
     "output_type": "stream",
     "text": [
      "Test data prediction accuracy (NaiveBayes) : 96.666667\n"
     ]
    }
   ],
   "source": [
    "from sklearn.naive_bayes import GaussianNB\n",
    "\n",
    "NB_model = None\n",
    "accuracy = None\n",
    "############# Put your code here ################\n",
    "NB_model = GaussianNB()\n",
    "NB_model.fit(X_train,Y_train)\n",
    "accuracy = 100 * (Y_test.size - np.nonzero(Y_test- NB_model.predict(X_test))[0].size)/Y_test.size\n",
    "           \n",
    "################################################# \n",
    "print('Test data prediction accuracy (NaiveBayes) : %f'%accuracy)"
   ]
  },
  {
   "cell_type": "markdown",
   "metadata": {},
   "source": [
    "# # Problem 7\n",
    "Ensemble classifier.\n",
    "- 위의 6개의 모델(ID3, CART, Random Forest, XGBoost, LightGBM, Naive Bayes)을 이용하여 Voting(6개의 예측 label중 가장 많이 예측된 label을 최종 prediction label로 택하는것)방법으로 최종 label을 택한 뒤, 예측 정확도를 출력하시오.\n",
    "- Scikit-learn의 VotingClassifier 패키지를 사용하여 작성.\n",
    "- 위에서 학습시킨 모델 변수명 사용 가능."
   ]
  },
  {
   "cell_type": "code",
   "execution_count": 13,
   "metadata": {},
   "outputs": [
    {
     "name": "stdout",
     "output_type": "stream",
     "text": [
      "Test data prediction accuracy (Ensemble) : 100.000000\n"
     ]
    }
   ],
   "source": [
    "from sklearn.ensemble import VotingClassifier\n",
    "\n",
    "ensemble_classifier = None\n",
    "accuracy = None\n",
    "############# Put your code here ################\n",
    "ensemble_classifier = VotingClassifier(estimators=[('id3',ID3_model),('cart',CART_model),('random',Random_Forest_model),('xgb',XGB_model),('light',LGBM_model),('nb',NB_model)],voting='hard')\n",
    "ensemble_classifier.fit(X_train,Y_train)\n",
    "accuracy = 100 * (Y_test.size - np.nonzero(Y_test- ensemble_classifier.predict(X_test))[0].size)/Y_test.size\n",
    "################################################# \n",
    "print('Test data prediction accuracy (Ensemble) : %f'%accuracy)"
   ]
  },
  {
   "cell_type": "code",
   "execution_count": null,
   "metadata": {},
   "outputs": [],
   "source": []
  }
 ],
 "metadata": {
  "kernelspec": {
   "display_name": "Python 3",
   "language": "python",
   "name": "python3"
  },
  "language_info": {
   "codemirror_mode": {
    "name": "ipython",
    "version": 3
   },
   "file_extension": ".py",
   "mimetype": "text/x-python",
   "name": "python",
   "nbconvert_exporter": "python",
   "pygments_lexer": "ipython3",
   "version": "3.7.6"
  }
 },
 "nbformat": 4,
 "nbformat_minor": 2
}
